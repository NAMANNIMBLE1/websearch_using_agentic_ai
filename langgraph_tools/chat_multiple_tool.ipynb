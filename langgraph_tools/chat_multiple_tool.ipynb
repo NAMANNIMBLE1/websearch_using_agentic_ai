{
 "cells": [
  {
   "cell_type": "code",
   "execution_count": 228,
   "metadata": {},
   "outputs": [],
   "source": [
    "# tools \n",
    "from langchain_community.tools import ArxivQueryRun , WikipediaQueryRun\n",
    "from langchain_community.utilities import ArxivAPIWrapper , WikipediaAPIWrapper\n",
    "import os\n",
    "from dotenv import load_dotenv\n",
    "load_dotenv()\n",
    "\n",
    "os.environ[\"TAVILY_API_KEY\"] = os.getenv(\"TAVILY_API_KEY\")\n",
    "os.environ[\"GROQ_API_KEY\"] = os.getenv(\"GROQ_API_KEY\")\n",
    "os.environ[\"AGENTQL_API_KEY\"] = os.getenv(\"AGENTQL_API_KEY\")"
   ]
  },
  {
   "cell_type": "code",
   "execution_count": 229,
   "metadata": {},
   "outputs": [
    {
     "name": "stdout",
     "output_type": "stream",
     "text": [
      "query arxiv papers\n"
     ]
    }
   ],
   "source": [
    "api_wrapper_arxiv = ArxivAPIWrapper(\n",
    "    top_k_results=2,\n",
    "    doc_content_chars_max=5000\n",
    ")\n",
    "arxiv = ArxivQueryRun(\n",
    "    api_wrapper=api_wrapper_arxiv,\n",
    "    name=\"query arxiv papers\"\n",
    ")\n",
    "print(arxiv.name)"
   ]
  },
  {
   "cell_type": "code",
   "execution_count": 230,
   "metadata": {},
   "outputs": [
    {
     "name": "stdout",
     "output_type": "stream",
     "text": [
      "query wikipedia search\n"
     ]
    }
   ],
   "source": [
    "wikipedia_api_wrapper = WikipediaAPIWrapper(\n",
    "    top_k_results= 2,\n",
    "    # lang=\"english\",\n",
    "    doc_content_chars_max=5000\n",
    ")\n",
    "\n",
    "wikipedia = WikipediaQueryRun(\n",
    "    api_wrapper=wikipedia_api_wrapper,\n",
    "    name=\"query wikipedia search\"\n",
    ")\n",
    "\n",
    "print(wikipedia.name)"
   ]
  },
  {
   "cell_type": "code",
   "execution_count": 231,
   "metadata": {},
   "outputs": [],
   "source": [
    "# tavily search tool \n",
    "from langchain_community.tools.tavily_search import TavilySearchResults\n",
    "\n",
    "tavily = TavilySearchResults()"
   ]
  },
  {
   "cell_type": "code",
   "execution_count": 232,
   "metadata": {},
   "outputs": [
    {
     "data": {
      "text/plain": [
       "[{'title': 'Confused Between Roti Or Rice For Weight Loss? Read To Know ...',\n",
       "  'url': 'https://www.onlymyhealth.com/roti-or-rice-for-weight-loss-1695904907',\n",
       "  'content': 'Making the Right Choice for Weight Loss\\n\\n\\n\\nAs you can see, both roti and rice have their own significant pros and cons. So, your choice between the two should align with your overall dietary goals and lifestyle. If you need quick energy for physical activities, rice might be more suitable, while roti can be better for portion control and long-term satiety.\\n\\nAlso Read:\\xa0Peanut Versus Almond Butter: Which Is Better For Weight Loss [...] your overall dietary goals and lifestyle. If you need quick energy for physical activities, rice might be more suitable, while roti can be better for portion control and long-term satiety. Also Read:\\xa0Peanut Versus Almond Butter: Which Is Better For Weight Loss What also matters is which grain of rice or roti you choose. Opting for whole grains like brown rice, multi-grains, or whole wheat can increase your fibre and nutrient intake and alleviate some of the cons of both roti and rice. [...] of satiety as roti, potentially leading to overeating.  Making the Right Choice for Weight Loss  As you can see, both roti and rice have their own significant pros and cons. So, your choice between the two should align with your overall dietary goals and lifestyle. If you need quick energy for physical activities, rice might be more suitable, while roti can be better for portion control and long-term satiety. Also Read:\\xa0Peanut Versus Almond Butter: Which Is Better For Weight Loss What also',\n",
       "  'score': 0.9307171},\n",
       " {'title': 'Is rice roti better for weight loss? - Quora',\n",
       "  'url': 'https://www.quora.com/Is-rice-roti-better-for-weight-loss',\n",
       "  'content': 'Roti generally has fewer calories per serving compared to rice, so eating rice is right for weight loss.',\n",
       "  'score': 0.9197076},\n",
       " {'title': 'Dietitian Gunjan | Rice or Roti? The eternal debate for fat loss ...',\n",
       "  'url': 'https://www.instagram.com/reel/Czx7vExxsk_/?hl=en',\n",
       "  'content': 'Roti: Whole wheat flour contains more fiber and nutrients, making it a better choice for weight loss. Roti is also lower in calories compared',\n",
       "  'score': 0.90227455},\n",
       " {'title': 'Rice or Roti for Weight Loss: What Is Better for Dinner? - Practo',\n",
       "  'url': 'https://www.practo.com/healthfeed/rice-or-roti-for-weight-loss-what-is-better-for-dinner-46297/post',\n",
       "  'content': 'Quantity of rice and roti to have\\n\\nWhen compared to rice, roti is more filling. Rice does not give the same satiety as two Rotis would give. This is due to rice having fewer dietary fiber, protein, and fat when compared to wheat. A large bowl of rice has around 440 calories, which would be a large protein of your daily calorie consumption. For sustainable weight loss, you need to consume half a bowl of rice or 2 roti.\\n\\nBusting Common Counseling Myths! [...] As you all know that one should always have a light dinner, leading dietician for weight loss Avni Kaul shares which out of rice or roti is a better choice for dinner when your goal is to lose weight.\\n\\nRice or roti (chapati) [...] Nutritional value\\n\\nRoti is made from wheat so it has more nutrients when compared to rice. A small 6-inch roti contains almost 71 calories, 3 gm protein, 0.4 gm fat, and 15 gm carbohydrates. Rice has less amount of phosphorus and magnesium when compared to wheat. Besides, both rice and wheat have folate and iron in the same quantity.\\n\\nWhich is a better choice',\n",
       "  'score': 0.89053273},\n",
       " {'title': 'Roti or Rice ? Which one makes you Fat? - YouTube',\n",
       "  'url': 'https://www.youtube.com/watch?v=fqpF2OKWSug&pp=0gcJCdgAo7VqN5tD',\n",
       "  'content': 'If you’re gluten sensitive, rice is the way to go since it’s gluten-free. For muscle building, both are great carb sources, with rice being ideal post-workout for fast energy. During fat loss, roti helps keep you full and avoids overeating.\\n\\nThe choice ultimately depends on your body’s needs and your goals! So, what’s your pick—rice or roti? Let us know in the comments! [...] Roti or Rice ? Which one makes you Fat? \\n ABHINAV MAHAJAN \\n 28535 likes \\n 329855 views \\n 6 Oct 2024 \\n Rice vs Roti: Which One Is Better?\\n\\nConfused between rice and roti for your diet? Here’s the real breakdown:\\n\\nRice is easily digestible and provides quick energy, but it’s low in fiber. Roti, on the other hand, is rich in fiber, keeps you full for longer, and has a bit more protein. [...] (rice vs roti, rice or roti better, weight loss foods, muscle building carbs, healthy eating, gluten-free diet, fitness tips, nutrition myths, health choices, indian diet debate)\\n\\nWhat do you prefer ? \\n 263 comments',\n",
       "  'score': 0.8889231}]"
      ]
     },
     "execution_count": 232,
     "metadata": {},
     "output_type": "execute_result"
    }
   ],
   "source": [
    "tavily.invoke(\n",
    "    \"what is better for weight loss ? rice or roti\"\n",
    ")"
   ]
  },
  {
   "cell_type": "code",
   "execution_count": 233,
   "metadata": {},
   "outputs": [
    {
     "data": {
      "text/plain": [
       "\"Published: 2024-04-19\\nTitle: Large Language Model based Multi-Agents: A Survey of Progress and Challenges\\nAuthors: Taicheng Guo, Xiuying Chen, Yaqi Wang, Ruidi Chang, Shichao Pei, Nitesh V. Chawla, Olaf Wiest, Xiangliang Zhang\\nSummary: Large Language Models (LLMs) have achieved remarkable success across a wide\\narray of tasks. Due to the impressive planning and reasoning abilities of LLMs,\\nthey have been used as autonomous agents to do many tasks automatically.\\nRecently, based on the development of using one LLM as a single planning or\\ndecision-making agent, LLM-based multi-agent systems have achieved considerable\\nprogress in complex problem-solving and world simulation. To provide the\\ncommunity with an overview of this dynamic field, we present this survey to\\noffer an in-depth discussion on the essential aspects of multi-agent systems\\nbased on LLMs, as well as the challenges. Our goal is for readers to gain\\nsubstantial insights on the following questions: What domains and environments\\ndo LLM-based multi-agents simulate? How are these agents profiled and how do\\nthey communicate? What mechanisms contribute to the growth of agents'\\ncapacities? For those interested in delving into this field of study, we also\\nsummarize the commonly used datasets or benchmarks for them to have convenient\\naccess. To keep researchers updated on the latest studies, we maintain an\\nopen-source GitHub repository, dedicated to outlining the research on LLM-based\\nmulti-agent systems.\\n\\nPublished: 2024-12-21\\nTitle: SubData: A Python Library to Collect and Combine Datasets for Evaluating LLM Alignment on Downstream Tasks\\nAuthors: Leon Fröhling, Pietro Bernardelle, Gianluca Demartini\\nSummary: With the release of ever more capable large language models (LLMs),\\nresearchers in NLP and related disciplines have started to explore the\\nusability of LLMs for a wide variety of different annotation tasks. Very\\nrecently, a lot of this attention has shifted to tasks that are subjective in\\nnature. Given that the latest generations of LLMs have digested and encoded\\nextensive knowledge about different human subpopulations and individuals, the\\nhope is that these models can be trained, tuned or prompted to align with a\\nwide range of different human perspectives. While researchers already evaluate\\nthe success of this alignment via surveys and tests, there is a lack of\\nresources to evaluate the alignment on what oftentimes matters the most in NLP;\\nthe actual downstream tasks. To fill this gap we present SubData, a Python\\nlibrary that offers researchers working on topics related to subjectivity in\\nannotation tasks a convenient way of collecting, combining and using a range of\\nsuitable datasets.\""
      ]
     },
     "execution_count": 233,
     "metadata": {},
     "output_type": "execute_result"
    }
   ],
   "source": [
    "arxiv.invoke(\n",
    "    \"what is the latest research on Llms\"\n",
    ")"
   ]
  },
  {
   "cell_type": "code",
   "execution_count": 234,
   "metadata": {},
   "outputs": [],
   "source": [
    "# !uv pip install langchain_agentql\n",
    "# playwright install\n",
    "import nest_asyncio\n",
    "nest_asyncio.apply()\n",
    "# api key already provided above \n",
    "from langchain_agentql.tools import ExtractWebDataTool\n",
    "\n",
    "extract_web_data_tool = ExtractWebDataTool(\n",
    "    mode = \"fast\",\n",
    "    is_scroll_to_bottom_enabled = True,\n",
    ")\n"
   ]
  },
  {
   "cell_type": "code",
   "execution_count": 235,
   "metadata": {},
   "outputs": [
    {
     "data": {
      "text/plain": [
       "{'data': {'posts': [{'title': 'AgentQL Integrations: The Agentic Web begins now that every page is an enpoint',\n",
       "    'url': 'https://www.agentql.com/blog/2025-recap-integrations',\n",
       "    'date': 'Mar 17, 2025',\n",
       "    'author': 'Rachel-Lee Nabors'},\n",
       "   {'title': 'Hacking with AgentQL at Multimodal AI Agents Hackathon in San Francisco',\n",
       "    'url': 'https://www.agentql.com/blog/2025-multimodal-agents-hackathon',\n",
       "    'date': 'Apr 3, 2025',\n",
       "    'author': 'Rachel-Lee Nabors'},\n",
       "   {'title': \"Scrape raw HTML with AgentQL's REST API\",\n",
       "    'url': 'https://www.agentql.com/blog/2025-scrape-html-api',\n",
       "    'date': 'Mar 29, 2025',\n",
       "    'author': 'Rachel-Lee Nabors'},\n",
       "   {'title': 'Langflow + AgentQL: drag, drop, and automate Web data in AI pipelines',\n",
       "    'url': 'https://www.agentql.com/blog/2025-langflow-integration',\n",
       "    'date': 'Mar 19, 2025',\n",
       "    'author': 'Rachel-Lee Nabors'},\n",
       "   {'title': 'AgentQL Enters the Agentic World with Langchain and LlamaIndex',\n",
       "    'url': 'https://www.agentql.com/blog/2025-llamaindex-langchain-integration',\n",
       "    'date': 'Mar 14, 2025',\n",
       "    'author': 'Rachel-Lee Nabors'}]},\n",
       " 'metadata': {'request_id': '230bf44d-289e-4a4d-a595-e13d3fbe7c2a',\n",
       "  'generated_query': None,\n",
       "  'screenshot': None}}"
      ]
     },
     "execution_count": 235,
     "metadata": {},
     "output_type": "execute_result"
    }
   ],
   "source": [
    "extract_web_data_tool.invoke(\n",
    "    {\n",
    "        \"url\": \"https://www.agentql.com/blog\",\n",
    "        \"query\": \"{ posts[] { title url date author } }\",\n",
    "    },\n",
    ")"
   ]
  },
  {
   "cell_type": "code",
   "execution_count": 236,
   "metadata": {},
   "outputs": [],
   "source": [
    "# combinig the tools \n",
    "\n",
    "tools = [arxiv , wikipedia , tavily , extract_web_data_tool]"
   ]
  },
  {
   "cell_type": "code",
   "execution_count": 237,
   "metadata": {},
   "outputs": [
    {
     "data": {
      "text/plain": [
       "AIMessage(content='Neither chocolate nor orange juice is inherently \"better\" for weight loss. Both can contribute to weight gain if consumed in excess. \\n\\nHere\\'s a breakdown:\\n\\n**Chocolate:**\\n\\n* **Pros:** Can contain antioxidants and may have mood-boosting effects. Dark chocolate (70% cacao or higher) has less sugar and more fiber than milk or white chocolate.\\n* **Cons:** High in calories and fat, especially milk and white chocolate. Sugar content can contribute to weight gain.\\n\\n**Orange juice:**\\n\\n* **Pros:** Good source of Vitamin C and some fiber. Can be hydrating.\\n* **Cons:** High in sugar, even 100% juice. Can spike blood sugar levels, leading to cravings and potentially overeating.\\n\\n**The bottom line:**\\n\\n* **Moderation is key:** Both chocolate and orange juice can be enjoyed in moderation as part of a healthy diet.\\n* **Choose wisely:** Opt for dark chocolate with high cacao content and unsweetened or low-sugar orange juice.\\n* **Focus on whole foods:** Prioritize fruits, vegetables, lean protein, and whole grains for sustainable weight loss.\\n\\n**For weight loss, it\\'s important to:**\\n\\n* **Create a calorie deficit:** Consume fewer calories than you burn.\\n* **Eat a balanced diet:** Include a variety of nutrient-rich foods.\\n* **Engage in regular physical activity:** Aim for at least 150 minutes of moderate-intensity exercise per week.\\n* **Consult a healthcare professional:** Seek personalized advice from a doctor or registered dietitian.\\n', additional_kwargs={}, response_metadata={'token_usage': {'completion_tokens': 327, 'prompt_tokens': 20, 'total_tokens': 347, 'completion_time': 0.594545455, 'prompt_time': 0.002016565, 'queue_time': 0.28581199799999996, 'total_time': 0.59656202}, 'model_name': 'Gemma2-9b-It', 'system_fingerprint': 'fp_10c08bf97d', 'finish_reason': 'stop', 'logprobs': None}, id='run-99f9b5f9-7a22-4857-8b63-2fd97bdff5b8-0', usage_metadata={'input_tokens': 20, 'output_tokens': 327, 'total_tokens': 347})"
      ]
     },
     "execution_count": 237,
     "metadata": {},
     "output_type": "execute_result"
    }
   ],
   "source": [
    "# initializing the llm \n",
    "from langchain_groq import ChatGroq\n",
    "\n",
    "llm = ChatGroq(\n",
    "    model=\"Gemma2-9b-It\"\n",
    ")\n",
    "\n",
    "llm.invoke(\"what is better for weight loss ? chocolate or orange juice\")"
   ]
  },
  {
   "cell_type": "code",
   "execution_count": 238,
   "metadata": {},
   "outputs": [],
   "source": [
    "# combining llm with tools\n",
    "\n",
    "llm_with_tools = llm.bind_tools(tools=tools)\n"
   ]
  },
  {
   "cell_type": "code",
   "execution_count": 239,
   "metadata": {},
   "outputs": [
    {
     "data": {
      "text/plain": [
       "AIMessage(content='', additional_kwargs={'tool_calls': [{'id': 'call_w3g3', 'function': {'arguments': '{\"query\":\"weight loss benefits of chocolate vs orange juice\"}', 'name': 'query wikipedia search'}, 'type': 'function'}]}, response_metadata={'token_usage': {'completion_tokens': 89, 'prompt_tokens': 1644, 'total_tokens': 1733, 'completion_time': 0.161818182, 'prompt_time': 0.071242213, 'queue_time': 0.24469387799999998, 'total_time': 0.233060395}, 'model_name': 'Gemma2-9b-It', 'system_fingerprint': 'fp_10c08bf97d', 'finish_reason': 'tool_calls', 'logprobs': None}, id='run-123a74cc-7eb3-4648-99d3-5bb8e39e8acb-0', tool_calls=[{'name': 'query wikipedia search', 'args': {'query': 'weight loss benefits of chocolate vs orange juice'}, 'id': 'call_w3g3', 'type': 'tool_call'}], usage_metadata={'input_tokens': 1644, 'output_tokens': 89, 'total_tokens': 1733})"
      ]
     },
     "execution_count": 239,
     "metadata": {},
     "output_type": "execute_result"
    }
   ],
   "source": [
    "llm_with_tools.invoke(\"what is better for weight loss ? chocolate or orange juice\") # will give tool call"
   ]
  },
  {
   "cell_type": "code",
   "execution_count": 240,
   "metadata": {},
   "outputs": [
    {
     "data": {
      "text/plain": [
       "AIMessage(content='', additional_kwargs={'tool_calls': [{'id': 'call_jen6', 'function': {'arguments': '{\"query\":\"daily routine of justin bieber\"}', 'name': 'query wikipedia search'}, 'type': 'function'}]}, response_metadata={'token_usage': {'completion_tokens': 86, 'prompt_tokens': 1638, 'total_tokens': 1724, 'completion_time': 0.156363636, 'prompt_time': 0.070506365, 'queue_time': 0.24472718699999996, 'total_time': 0.226870001}, 'model_name': 'Gemma2-9b-It', 'system_fingerprint': 'fp_10c08bf97d', 'finish_reason': 'tool_calls', 'logprobs': None}, id='run-dff45f8b-ac34-4a92-98af-562f501bf410-0', tool_calls=[{'name': 'query wikipedia search', 'args': {'query': 'daily routine of justin bieber'}, 'id': 'call_jen6', 'type': 'tool_call'}], usage_metadata={'input_tokens': 1638, 'output_tokens': 86, 'total_tokens': 1724})"
      ]
     },
     "execution_count": 240,
     "metadata": {},
     "output_type": "execute_result"
    }
   ],
   "source": [
    "llm_with_tools.invoke(\"daily routine of justin bieber\")"
   ]
  },
  {
   "cell_type": "markdown",
   "metadata": {},
   "source": [
    "# workflow "
   ]
  },
  {
   "cell_type": "code",
   "execution_count": 241,
   "metadata": {},
   "outputs": [],
   "source": [
    "# state schema\n",
    "from langchain_core.messages import AnyMessage # human message or ai-message\n",
    "from typing_extensions import TypedDict \n",
    "from typing import Annotated # labelling\n",
    "from langgraph.graph import add_messages ## reducers in langgraph --> not overwrite in the state but append the messages"
   ]
  },
  {
   "cell_type": "code",
   "execution_count": 242,
   "metadata": {},
   "outputs": [],
   "source": [
    "# designing state schema\n",
    "class State(TypedDict):\n",
    "    messages : Annotated[list[AnyMessage] , add_messages]"
   ]
  },
  {
   "cell_type": "code",
   "execution_count": 243,
   "metadata": {},
   "outputs": [],
   "source": [
    "# libraries for the chatbot langgraph \n",
    "from IPython.display import Image , display \n",
    "from langgraph.graph import StateGraph , START ,END\n",
    "from langgraph.prebuilt import ToolNode\n",
    "from langgraph.prebuilt import tools_condition"
   ]
  },
  {
   "cell_type": "code",
   "execution_count": 244,
   "metadata": {},
   "outputs": [
    {
     "data": {
      "text/plain": [
       "<langgraph.graph.state.StateGraph at 0x19b7e80d550>"
      ]
     },
     "execution_count": 244,
     "metadata": {},
     "output_type": "execute_result"
    }
   ],
   "source": [
    "# node definition\n",
    "def tool_calling_llm(state : State):\n",
    "    # Invoke LLM with the messages from state and return as a list in messages key\n",
    "    messages = llm_with_tools.invoke(state[\"messages\"])\n",
    "    return {\"messages\": [messages]}\n",
    "\n",
    "# building graph \n",
    "builder = StateGraph(State)\n",
    "builder.add_node(\"tool_calling_llm\" , tool_calling_llm) # node  1 \n",
    "builder.add_node(\"tools\" , ToolNode(tools)) # node 2 "
   ]
  },
  {
   "cell_type": "code",
   "execution_count": 245,
   "metadata": {},
   "outputs": [
    {
     "data": {
      "image/png": "[encoded data removed]",
      "text/plain": [
       "<langgraph.graph.state.CompiledStateGraph object at 0x0000019B7E80CEF0>"
      ]
     },
     "execution_count": 245,
     "metadata": {},
     "output_type": "execute_result"
    }
   ],
   "source": [
    "## EDGES \n",
    "builder.add_edge(START , \"tool_calling_llm\")\n",
    "builder.add_conditional_edges(\n",
    "    \"tool_calling_llm\",\n",
    "    # if message(result) => tool call -> tool routes to tools \n",
    "    # if ! tool call -> tool condition routes to \n",
    "    tools_condition,\n",
    ")\n",
    "builder.add_edge(\"tools\" , END)\n",
    "\n",
    "graph = builder.compile()\n",
    "graph"
   ]
  },
  {
   "cell_type": "markdown",
   "metadata": {},
   "source": [
    "# checking output"
   ]
  },
  {
   "cell_type": "code",
   "execution_count": 246,
   "metadata": {},
   "outputs": [
    {
     "name": "stdout",
     "output_type": "stream",
     "text": [
      "================================\u001b[1m Human Message \u001b[0m=================================\n",
      "\n",
      "1706.03762\n",
      "==================================\u001b[1m Ai Message \u001b[0m==================================\n",
      "Tool Calls:\n",
      "  query arxiv papers (call_z30v)\n",
      " Call ID: call_z30v\n",
      "  Args:\n",
      "    query: 1706.03762\n",
      "=================================\u001b[1m Tool Message \u001b[0m=================================\n",
      "Name: query arxiv papers\n",
      "\n",
      "Published: 2023-08-02\n",
      "Title: Attention Is All You Need\n",
      "Authors: Ashish Vaswani, Noam Shazeer, Niki Parmar, Jakob Uszkoreit, Llion Jones, Aidan N. Gomez, Lukasz Kaiser, Illia Polosukhin\n",
      "Summary: The dominant sequence transduction models are based on complex recurrent or\n",
      "convolutional neural networks in an encoder-decoder configuration. The best\n",
      "performing models also connect the encoder and decoder through an attention\n",
      "mechanism. We propose a new simple network architecture, the Transformer, based\n",
      "solely on attention mechanisms, dispensing with recurrence and convolutions\n",
      "entirely. Experiments on two machine translation tasks show these models to be\n",
      "superior in quality while being more parallelizable and requiring significantly\n",
      "less time to train. Our model achieves 28.4 BLEU on the WMT 2014\n",
      "English-to-German translation task, improving over the existing best results,\n",
      "including ensembles by over 2 BLEU. On the WMT 2014 English-to-French\n",
      "translation task, our model establishes a new single-model state-of-the-art\n",
      "BLEU score of 41.8 after training for 3.5 days on eight GPUs, a small fraction\n",
      "of the training costs of the best models from the literature. We show that the\n",
      "Transformer generalizes well to other tasks by applying it successfully to\n",
      "English constituency parsing both with large and limited training data.\n"
     ]
    }
   ],
   "source": [
    "from langchain_core.messages import HumanMessage\n",
    "\n",
    "messages = graph.invoke(\n",
    "    {\"messages\": [HumanMessage(content=\"1706.03762\")]}\n",
    ")\n",
    "\n",
    "for m in messages[\"messages\"]:\n",
    "    m.pretty_print()"
   ]
  },
  {
   "cell_type": "code",
   "execution_count": 247,
   "metadata": {},
   "outputs": [
    {
     "name": "stdout",
     "output_type": "stream",
     "text": [
      "================================\u001b[1m Human Message \u001b[0m=================================\n",
      "\n",
      "who is salman khan ?\n",
      "==================================\u001b[1m Ai Message \u001b[0m==================================\n",
      "Tool Calls:\n",
      "  query wikipedia search (call_8qte)\n",
      " Call ID: call_8qte\n",
      "  Args:\n",
      "    query: salman khan\n",
      "=================================\u001b[1m Tool Message \u001b[0m=================================\n",
      "Name: query wikipedia search\n",
      "\n",
      "Page: Salman Khan\n",
      "Summary: Abdul Rashid Salim Salman Khan (pronounced [səlˈmɑːn xɑːn, -kʰɑːn̪]; born 27 December 1965) is an Indian actor, film producer, and television personality who predominantly works in Hindi films. In a career spanning over three decades, his awards include two National Film Awards as a film producer, and two Filmfare Awards as an actor. He has been cited in the media as one of the most popular and commercially successful actors of Indian cinema. Forbes included him in listings of the highest-paid celebrities in the world, in 2015 and 2018, with him being the highest-ranked Indian in the latter year. He has starred in the annual highest-grossing Hindi films of 10 individual years, the highest for any actor.\n",
      "Khan began his acting career with a supporting role in Biwi Ho To Aisi (1988), followed by his breakthrough with a leading role in Sooraj Barjatya's romantic drama Maine Pyar Kiya (1989), for which he was awarded the Filmfare Award for Best Male Debut. He established himself with several commercially successful films, including Lawrence D'Souza's romantic drama Saajan (1991), Barjatya's family dramas Hum Aapke Hain Koun..! (1994) and Hum Saath-Saath Hain (1999), the action film Karan Arjun (1995) and the comedy Biwi No.1 (1999). After a period of fluctuations through the 2000s, Khan resurrected his screen image with the action film Wanted (2009), and achieved greater stardom the following decade by starring in the top-grossing action films Dabangg (2010), Ready (2011), Bodyguard (2011), Ek Tha Tiger (2012), Dabangg 2 (2012), Kick (2014), and Tiger Zinda Hai (2017), and the dramas Bajrangi Bhaijaan (2015) and Sultan (2016). This was followed by a series of poorly-received films, with the exception of  Bharat (2019) and the sequel Tiger 3 (2023).\n",
      "In addition to his acting career, Khan is a television presenter and promotes humanitarian causes through his charity, Being Human Foundation. He has been hosting the reality show Bigg Boss since 2010. Khan's off-screen life is marred by controversy and legal troubles. In 2015, he was convicted of culpable homicide for a negligent driving case in which he ran over five people with his car, killing one, but his conviction was set aside on appeal. On 5 April 2018, Khan was convicted in a blackbuck poaching case and sentenced to five years imprisonment. On 7 April 2018, he was out on bail while an appeal was ongoing.\n",
      "\n",
      "Page: Salman Khan filmography\n",
      "Summary: Salman Khan is an Indian actor and producer, known for his work in Hindi films. He made his film debut with a brief role in Biwi Ho To Aisi (1988), before having his breakthrough with Sooraj Barjatya's blockbuster romance Maine Pyar Kiya (1989) that won him the Filmfare Award for Best Male Debut. In the early 1990s, he earned success with the action film Baaghi: A Rebel for Love (1990) and the romance Sanam Bewafa, Saajan (both 1991). His other releases during this period failed commercially, resulting in a brief setback in his career.\n",
      "The success of the family drama Hum Aapke Hain Koun..! (1994) and the melodramatic action Karan Arjun (1995) revitalised Khan's career and established him in Bollywood. Also in 1994, he co-starred with Aamir Khan in the comedy movie Andaz Apna Apna, which was poorly received at that time, but later became a cult film in India. Among his three film releases of 1996 were Sanjay Leela Bhansali's critically acclaimed musical drama Khamoshi and the Raj Kanwar-directed drama Jeet. The following year, he played dual roles in David Dhawan's comedy Judwaa. In 1998, Khan featured in Sohail Khan's Pyaar Kiya To Darna Kya, and appeared briefly in the romantic drama Kuch Kuch Hota Hai, both of which ranked among the top-earning Bollywood productions of 1998. For the latter, he was awarded the Filmfare Award for Best Supporting Actor.\n",
      "In 1999, Khan starred in three commercially successful productions: the comedy Biwi No.1, the romantic drama Hum Dil De Chuke Sanam, and the family drama Hum Saath-Saath Hain. After another string of flops, he earned critical acclaim for playing a scorned lover in the romance Tere Naam and a brief role in the family drama Baghban (both 2003). He went on to star in the top-grossing comedies Mujhse Shaadi Karogi (2004), No Entry (2005) and Partner (2007). Khan made his television debut by hosting two seasons of the game show 10 Ka Dum (2008–09). Following a series of commercial failures from 2006 to 2008, his career saw a resurgence with the financially successful action films Wanted (2009) and Dabangg (2010). In 2010, Khan began hosting the television game show Bigg Boss, later hosting nine more seasons. He won the National Film Award for Best Children's Film for producing Chillar Party (2011) under Salman Khan Being Human Productions, and starred in the year's top grossers—the action comedies Ready and Bodyguard.\n",
      "Khan's next releases Bodyguard (2011), Ready (2011), Ek Tha Tiger (2012), Dabangg 2 (2012), Kick (2014), Jai Ho (2014), Bajrangi Bhai\n"
     ]
    }
   ],
   "source": [
    "messages = graph.invoke(\n",
    "    {\"messages\": [HumanMessage(content=\"who is salman khan ?\")]}\n",
    ")\n",
    "\n",
    "for m in messages[\"messages\"]:\n",
    "    m.pretty_print()"
   ]
  },
  {
   "cell_type": "code",
   "execution_count": 248,
   "metadata": {},
   "outputs": [
    {
     "name": "stdout",
     "output_type": "stream",
     "text": [
      "================================\u001b[1m Human Message \u001b[0m=================================\n",
      "\n",
      "what do i eat for faster weight loss , roti or rice ?\n",
      "==================================\u001b[1m Ai Message \u001b[0m==================================\n",
      "Tool Calls:\n",
      "  query wikipedia search (call_xjre)\n",
      " Call ID: call_xjre\n",
      "  Args:\n",
      "    query: healthiest food for weight loss\n",
      "=================================\u001b[1m Tool Message \u001b[0m=================================\n",
      "Name: query wikipedia search\n",
      "\n",
      "Page: Overweight\n",
      "Summary: Being overweight is having more body fat than is optimally healthy. Being overweight is especially common where food supplies are plentiful and lifestyles are sedentary.\n",
      "As of 2003, excess weight reached epidemic proportions globally, with more than 1 billion adults being either overweight or obese. In 2013, this increased to more than 2 billion. Increases have been observed across all age groups.\n",
      "A healthy body requires a minimum amount of fat for proper functioning of the hormonal, reproductive, and immune systems, as thermal insulation, as shock absorption for sensitive areas, and as energy for future use; however, the accumulation of too much storage fat can impair movement, flexibility, and alter the appearance of the body. Some people are naturally heavier and the body positivity movement has worked to reduce body shaming and improve self-confidence amongst heavierset people.\n",
      "At a basic and fundamental level, the treatments called for are diet and exercise. More extensive treatment may involve support groups like Overeaters Anonymous and mental health treatment. The degree to which treatment is necessary varies culturally and with a medical assessment of an unhealthy weight, treatment has been facilitated by new effective weightloss drugs like Zepbound.\n",
      "\n",
      "Page: Obesity in the United Kingdom\n",
      "Summary: Obesity in the United Kingdom is a significant contemporary health concern, with authorities stating that it is one of the leading preventable causes of death. In February 2016, former Health Secretary Jeremy Hunt described rising rates of childhood obesity as a \"national emergency\". The National Childhood Measurement Programme, which measures obesity prevalence among school-age pupils in reception class and year 6, found obesity levels rocketed in both years groups by more than 4 percentage points between 2019–20 and 2020–21, the highest rise since the programme began. Among reception-aged children, those aged four and five, the rates of obesity rose from 9.9% in 2019–20 to 14.4% in 2020–21. By the time they are aged 10 or 11, more than a quarter are obese. In just 12 months, the rate is up from 21% in 2019–20 to 25.5% in 2020–21.\n",
      "Data from the Health Survey for England (HSE) conducted in 2018 indicated that 31% of adults in the England were recognised as clinically obese with a Body Mass Index (BMI) greater than 30. 63% of adults were classified as overweight or obese (a body mass index of 25 or above), a 10 percent increase 1993. More than two-thirds of men and 6 in 10 women were overweight or obese. 28% of children aged between 2 and 15 years (inclusive) were overweight of them about 15% of children were obese.\n",
      "Rising levels of obesity are a major challenge to public health. There are expected to be 11 million more obese adults in the UK by 2030, accruing up to 668,000 additional cases of diabetes mellitus, 461,000 cases of heart disease and stroke, 130,000 cases of cancer, with associated medical costs set to increase by £1.9–2.0B per year by 2030. Adult obesity rates have almost quadrupled in the last 25 years.\n",
      "Combining three years of data (2012, 2013, and 2014) Public Health England identified Barnsley, South Yorkshire as the local authority with the highest incidence of adult obesity (BMI greater than 30) with 35.1%. Data from the same study revealed that Doncaster, South Yorkshire was the local authority with the highest overall excess weight with 74.8% of adults (16 years and over) with a BMI greater than 25. In previous Public Health England studies based on 2012 data, Tamworth in Staffordshire had been identified as the fattest town in England with an obesity rate of 30.7%.\n",
      "\n",
      "\n"
     ]
    }
   ],
   "source": [
    "messages = graph.invoke(\n",
    "    {\"messages\": [HumanMessage(content=\"what do i eat for faster weight loss , roti or rice ?\")]}\n",
    ")\n",
    "\n",
    "for m in messages[\"messages\"]:\n",
    "    m.pretty_print()"
   ]
  },
  {
   "cell_type": "code",
   "execution_count": 250,
   "metadata": {},
   "outputs": [
    {
     "name": "stdout",
     "output_type": "stream",
     "text": [
      "================================\u001b[1m Human Message \u001b[0m=================================\n",
      "\n",
      "Extract data from https://www.agentql.com/blog using the following agentql query: { posts[] { title url date author } }\n",
      "==================================\u001b[1m Ai Message \u001b[0m==================================\n",
      "Tool Calls:\n",
      "  extract_web_data_with_rest_api (call_x6fe)\n",
      " Call ID: call_x6fe\n",
      "  Args:\n",
      "    url: https://www.agentql.com/blog\n",
      "    query: { posts[] { title url date author } }\n",
      "=================================\u001b[1m Tool Message \u001b[0m=================================\n",
      "Name: extract_web_data_with_rest_api\n",
      "\n",
      "{\"data\": {\"posts\": [{\"title\": \"AgentQL Integrations: The Agentic Web begins now that every page is an enpoint\", \"url\": \"https://www.agentql.com/blog/2025-recap-integrations\", \"date\": \"Mar 17, 2025\", \"author\": \"Rachel-Lee Nabors\"}, {\"title\": \"Hacking with AgentQL at Multimodal AI Agents Hackathon in San Francisco\", \"url\": \"https://www.agentql.com/blog/2025-multimodal-agents-hackathon\", \"date\": \"Apr 3, 2025\", \"author\": \"Rachel-Lee Nabors\"}, {\"title\": \"Scrape raw HTML with AgentQL's REST API\", \"url\": \"https://www.agentql.com/blog/2025-scrape-html-api\", \"date\": \"Mar 29, 2025\", \"author\": \"Rachel-Lee Nabors\"}, {\"title\": \"Langflow + AgentQL: drag, drop, and automate Web data in AI pipelines\", \"url\": \"https://www.agentql.com/blog/2025-langflow-integration\", \"date\": \"Mar 19, 2025\", \"author\": \"Rachel-Lee Nabors\"}, {\"title\": \"AgentQL Enters the Agentic World with Langchain and LlamaIndex\", \"url\": \"https://www.agentql.com/blog/2025-llamaindex-langchain-integration\", \"date\": \"Mar 14, 2025\", \"author\": \"Rachel-Lee Nabors\"}]}, \"metadata\": {\"request_id\": \"813b1d74-924d-4642-8a9a-8034e0de2b60\", \"generated_query\": null, \"screenshot\": null}}\n"
     ]
    }
   ],
   "source": [
    "messages = graph.invoke(\n",
    "    {\"messages\": [HumanMessage(content=\"Extract data from https://www.agentql.com/blog using the following agentql query: { posts[] { title url date author } }\")]}\n",
    ")\n",
    "\n",
    "for m in messages[\"messages\"]:\n",
    "    m.pretty_print()"
   ]
  },
  {
   "cell_type": "code",
   "execution_count": null,
   "metadata": {},
   "outputs": [],
   "source": []
  },
  {
   "cell_type": "code",
   "execution_count": null,
   "metadata": {},
   "outputs": [],
   "source": []
  }
 ],
 "metadata": {
  "kernelspec": {
   "display_name": "Python 3",
   "language": "python",
   "name": "python3"
  },
  "language_info": {
   "codemirror_mode": {
    "name": "ipython",
    "version": 3
   },
   "file_extension": ".py",
   "mimetype": "text/x-python",
   "name": "python",
   "nbconvert_exporter": "python",
   "pygments_lexer": "ipython3",
   "version": "3.12.6"
  }
 },
 "nbformat": 4,
 "nbformat_minor": 2
}
